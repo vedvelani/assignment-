{
 "cells": [
  {
   "cell_type": "markdown",
   "id": "21897006-8bca-4810-8ad0-d59c816b4768",
   "metadata": {},
   "source": [
    "### Downloading Required Libraries"
   ]
  },
  {
   "cell_type": "code",
   "execution_count": 8,
   "id": "7331222c-f9f1-424d-bcd7-6843cdf9972e",
   "metadata": {},
   "outputs": [
    {
     "name": "stdout",
     "output_type": "stream",
     "text": [
      "Requirement already satisfied: PyPDF2 in c:\\users\\vedvelani\\anaconda3\\lib\\site-packages (3.0.1)\n",
      "Requirement already satisfied: pdfplumber in c:\\users\\vedvelani\\anaconda3\\lib\\site-packages (0.11.4)\n",
      "Requirement already satisfied: pandas in c:\\users\\vedvelani\\anaconda3\\lib\\site-packages (2.2.2)\n",
      "Requirement already satisfied: openpyxl in c:\\users\\vedvelani\\anaconda3\\lib\\site-packages (3.1.2)\n",
      "Requirement already satisfied: pdfminer.six==20231228 in c:\\users\\vedvelani\\anaconda3\\lib\\site-packages (from pdfplumber) (20231228)\n",
      "Requirement already satisfied: Pillow>=9.1 in c:\\users\\vedvelani\\anaconda3\\lib\\site-packages (from pdfplumber) (10.3.0)\n",
      "Requirement already satisfied: pypdfium2>=4.18.0 in c:\\users\\vedvelani\\anaconda3\\lib\\site-packages (from pdfplumber) (4.30.0)\n",
      "Requirement already satisfied: charset-normalizer>=2.0.0 in c:\\users\\vedvelani\\anaconda3\\lib\\site-packages (from pdfminer.six==20231228->pdfplumber) (2.0.4)\n",
      "Requirement already satisfied: cryptography>=36.0.0 in c:\\users\\vedvelani\\anaconda3\\lib\\site-packages (from pdfminer.six==20231228->pdfplumber) (42.0.5)\n",
      "Requirement already satisfied: numpy>=1.26.0 in c:\\users\\vedvelani\\anaconda3\\lib\\site-packages (from pandas) (1.26.4)\n",
      "Requirement already satisfied: python-dateutil>=2.8.2 in c:\\users\\vedvelani\\anaconda3\\lib\\site-packages (from pandas) (2.9.0.post0)\n",
      "Requirement already satisfied: pytz>=2020.1 in c:\\users\\vedvelani\\anaconda3\\lib\\site-packages (from pandas) (2024.1)\n",
      "Requirement already satisfied: tzdata>=2022.7 in c:\\users\\vedvelani\\anaconda3\\lib\\site-packages (from pandas) (2023.3)\n",
      "Requirement already satisfied: et-xmlfile in c:\\users\\vedvelani\\anaconda3\\lib\\site-packages (from openpyxl) (1.1.0)\n",
      "Requirement already satisfied: six>=1.5 in c:\\users\\vedvelani\\anaconda3\\lib\\site-packages (from python-dateutil>=2.8.2->pandas) (1.16.0)\n",
      "Requirement already satisfied: cffi>=1.12 in c:\\users\\vedvelani\\anaconda3\\lib\\site-packages (from cryptography>=36.0.0->pdfminer.six==20231228->pdfplumber) (1.16.0)\n",
      "Requirement already satisfied: pycparser in c:\\users\\vedvelani\\anaconda3\\lib\\site-packages (from cffi>=1.12->cryptography>=36.0.0->pdfminer.six==20231228->pdfplumber) (2.21)\n"
     ]
    }
   ],
   "source": [
    "!pip install PyPDF2 pdfplumber pandas openpyxl"
   ]
  },
  {
   "cell_type": "markdown",
   "id": "c714d118-ef78-4d39-894d-a4a51aa22f92",
   "metadata": {},
   "source": [
    "### Importing Required Libraries"
   ]
  },
  {
   "cell_type": "code",
   "execution_count": 9,
   "id": "55449950-4a48-423f-bdf1-f84ad041389c",
   "metadata": {},
   "outputs": [],
   "source": [
    "import pdfplumber\n",
    "import pandas as pd\n",
    "import openpyxl\n",
    "from openpyxl.styles import Font"
   ]
  },
  {
   "cell_type": "markdown",
   "id": "7d35fba0-0a11-4f4e-8deb-f7fc229a2eab",
   "metadata": {},
   "source": [
    "### Define Functions"
   ]
  },
  {
   "cell_type": "code",
   "execution_count": 10,
   "id": "e4f2069c-b858-4c90-b3a9-5d140e1bbe4d",
   "metadata": {},
   "outputs": [],
   "source": [
    "# Function to extract text from the PDF\n",
    "def extract_text_from_pdf(pdf_path):\n",
    "    text = \"\"\n",
    "    with pdfplumber.open(pdf_path) as pdf:\n",
    "        for page in pdf.pages:\n",
    "            text += page.extract_text()\n",
    "    return text\n",
    "\n",
    "# Function to parse the extracted text into a DataFrame\n",
    "def parse_pdf_text(text):\n",
    "    lines = text.split('\\n')\n",
    "    data = []\n",
    "    for line in lines:\n",
    "        columns = line.split()  \n",
    "        data.append(columns)\n",
    "    df = pd.DataFrame(data)\n",
    "    return df\n",
    "\n",
    "# Function to write the DataFrame to an Excel file\n",
    "def write_to_excel(df, output_path):\n",
    "    df.to_excel(output_path, index=False)\n",
    "\n",
    "# Function to customize the Excel file \n",
    "def customize_excel(output_path):\n",
    "    wb = openpyxl.load_workbook(output_path)\n",
    "    ws = wb.active\n",
    "    \n",
    "    # Example: Apply a bold font to the first row (header)\n",
    "    for cell in ws[1]:\n",
    "        cell.font = Font(bold=True)\n",
    "    \n",
    "    wb.save(output_path)"
   ]
  },
  {
   "cell_type": "markdown",
   "id": "79cda15a-2278-4059-b781-ad4811145ea3",
   "metadata": {},
   "source": [
    "### Process the PDF and Generate the Excel File"
   ]
  },
  {
   "cell_type": "code",
   "execution_count": 11,
   "id": "1b63e9e4-efee-46da-aac0-78821cdc82cc",
   "metadata": {},
   "outputs": [
    {
     "name": "stdout",
     "output_type": "stream",
     "text": [
      "Data extracted and saved to Output.xlsx\n"
     ]
    }
   ],
   "source": [
    "# Specify the paths\n",
    "pdf_path = \"Voter List.pdf\" \n",
    "output_path = \"Output.xlsx\"  \n",
    "\n",
    "# Extract, parse, and save the data\n",
    "pdf_text = extract_text_from_pdf(pdf_path)\n",
    "parsed_data = parse_pdf_text(pdf_text)\n",
    "write_to_excel(parsed_data, output_path)\n",
    "customize_excel(output_path)\n",
    "\n",
    "print(f\"Data extracted and saved to {output_path}\")\n"
   ]
  },
  {
   "cell_type": "code",
   "execution_count": null,
   "id": "6be2e117-068a-46dd-8447-affa0f5b7b02",
   "metadata": {},
   "outputs": [],
   "source": []
  }
 ],
 "metadata": {
  "kernelspec": {
   "display_name": "Python 3 (ipykernel)",
   "language": "python",
   "name": "python3"
  },
  "language_info": {
   "codemirror_mode": {
    "name": "ipython",
    "version": 3
   },
   "file_extension": ".py",
   "mimetype": "text/x-python",
   "name": "python",
   "nbconvert_exporter": "python",
   "pygments_lexer": "ipython3",
   "version": "3.12.4"
  }
 },
 "nbformat": 4,
 "nbformat_minor": 5
}
